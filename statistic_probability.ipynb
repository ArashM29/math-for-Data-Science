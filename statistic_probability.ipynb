{
 "cells": [
  {
   "cell_type": "markdown",
   "metadata": {},
   "source": [
    "# Introduction\n",
    "In this essay I present a review of the concepts in statistics und probability necessary for learning data Science and machine learning. My goal is to provide the readers an idea of the concepts behind the rigorous mathematical definitions and calculations. \n",
    " \n",
    "# Random experiment\n",
    "Imagine that you have no Idea of gravity and you want to know what happen if you throw a dice in the air. To find out your answer you do an experiment in which you throw a dice in the air. You see that the dice always come back to the earth and finally stay there. You get always the same result  each time you repeat the experiment. In this experiment the chance plays no role in the result of the experiment. Therefore this is not a random experiment or process.\n",
    "Imagine that you playing dice with your little brother. You throw the dice and the winner get certain side of the dice upward as the dice stay on the floor. We call this process of throwing a dice an experiment as it is similar to a scientific experiment: you do something or follow a process and then you observe the result of your action. Moreover we call the result of such an experiment the outcome of the experiment. The throwing dice concerning the upward side of the dice as its outcome is an example of random experiment because the chance plays an essential roll in its outcome. We know that there are six different possibilities for the outcome of the experiment but we do not know which one occurs every time we throw the dice. Each time one side of the dice stay upward on the floor.\n",
    "As always little brothers tend to cheat a little bit to win. For this they throw the dice in particular way to get the desired dice face. For example they hold the dice with the desired face upward in the hand and let it drop from a short distance from the floor. This is of course not a random experiment und the outcome is predictable. To avoid this you should agree with the brother on the exact way of throwing the dice before you start the game.  Based on this example I present a formal definition of a random experiment.\n"
   ]
  }
 ],
 "metadata": {
  "kernelspec": {
   "display_name": "Python 3.9.8 ('.venv': venv)",
   "language": "python",
   "name": "python3"
  },
  "language_info": {
   "codemirror_mode": {
    "name": "ipython",
    "version": 3
   },
   "file_extension": ".py",
   "mimetype": "text/x-python",
   "name": "python",
   "nbconvert_exporter": "python",
   "pygments_lexer": "ipython3",
   "version": "3.9.8"
  },
  "orig_nbformat": 4,
  "vscode": {
   "interpreter": {
    "hash": "37944a3a6c1876f1622be2f71a9528f9576e3efee1a3e481a52b0ee76464fb9e"
   }
  }
 },
 "nbformat": 4,
 "nbformat_minor": 2
}
